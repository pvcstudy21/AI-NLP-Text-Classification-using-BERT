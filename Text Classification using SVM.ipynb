{
 "cells": [
  {
   "cell_type": "code",
   "execution_count": 1,
   "id": "ba14ce9f-90e6-4655-9238-a6108b2ed9ca",
   "metadata": {},
   "outputs": [],
   "source": [
    "import numpy as np\n",
    "import pandas as pd\n",
    "import re\n",
    "import nltk\n",
    "from nltk.corpus import stopwords\n",
    "from sklearn.feature_extraction.text import TfidfVectorizer\n",
    "from sklearn.model_selection import train_test_split, GridSearchCV\n",
    "from sklearn.preprocessing import LabelEncoder\n",
    "from sklearn.svm import SVC\n",
    "from sklearn.pipeline import Pipeline\n",
    "from sklearn.metrics import accuracy_score"
   ]
  },
  {
   "cell_type": "code",
   "execution_count": 2,
   "id": "29042089-1639-4978-b094-5c0ab0b7bc4f",
   "metadata": {},
   "outputs": [
    {
     "name": "stderr",
     "output_type": "stream",
     "text": [
      "[nltk_data] Downloading package stopwords to\n",
      "[nltk_data]     C:\\Users\\Dell\\AppData\\Roaming\\nltk_data...\n",
      "[nltk_data]   Package stopwords is already up-to-date!\n"
     ]
    }
   ],
   "source": [
    "# Download stopwords if not already downloaded\n",
    "nltk.download('stopwords')\n",
    "stop_words = set(stopwords.words('english'))"
   ]
  },
  {
   "cell_type": "code",
   "execution_count": 3,
   "id": "da73f8c3-7e85-4053-8b3c-5431340327d5",
   "metadata": {},
   "outputs": [],
   "source": [
    "# Load dataset\n",
    "df = pd.read_csv(r\"C:\\Users\\Dell\\Desktop\\Artificial Inteligence\\pythonProject\\dataset.csv\")"
   ]
  },
  {
   "cell_type": "code",
   "execution_count": 4,
   "id": "7206c8bf-554c-401c-8cda-4f08be96069e",
   "metadata": {},
   "outputs": [],
   "source": [
    "# Function for text preprocessing\n",
    "def preprocess_text(text):\n",
    "    text = text.lower()\n",
    "    text = re.sub(r'\\b\\w{1,2}\\b', '', text)\n",
    "    text = re.sub(r'\\d+', '', text)\n",
    "    text = re.sub(r'[^\\w\\s]', '', text)\n",
    "    text = ' '.join(word for word in text.split() if word not in stop_words)\n",
    "    return text"
   ]
  },
  {
   "cell_type": "code",
   "execution_count": 5,
   "id": "880f1bf1-e5f9-48e7-8da8-b893be01c511",
   "metadata": {},
   "outputs": [],
   "source": [
    "# Apply preprocessing to text data\n",
    "df[\"text\"] = df[\"text\"].apply(preprocess_text)"
   ]
  },
  {
   "cell_type": "code",
   "execution_count": 6,
   "id": "c94bac0d-f348-4082-b85a-878f255b8273",
   "metadata": {},
   "outputs": [],
   "source": [
    "# Encode labels\n",
    "le = LabelEncoder()\n",
    "df[\"label\"] = le.fit_transform(df[\"label\"])"
   ]
  },
  {
   "cell_type": "code",
   "execution_count": 7,
   "id": "5e04c783-9234-49f3-a243-8050bb7f4ac1",
   "metadata": {},
   "outputs": [],
   "source": [
    "# Split data into training and testing sets\n",
    "text_train, text_test, target_train, target_test = train_test_split(df[\"text\"], df[\"label\"], test_size=0.2, random_state=42)"
   ]
  },
  {
   "cell_type": "code",
   "execution_count": 8,
   "id": "289c8948-4358-4334-8b2b-4f7f34e45e38",
   "metadata": {},
   "outputs": [],
   "source": [
    "# Ensure the text is converted to string format\n",
    "text_train = [str(text) for text in text_train]\n",
    "text_test = [str(text) for text in text_test]"
   ]
  },
  {
   "cell_type": "code",
   "execution_count": 9,
   "id": "b65f5c26-edee-4e9c-82d8-373fb01037b2",
   "metadata": {},
   "outputs": [],
   "source": [
    "# Define a pipeline with TfidfVectorizer and SVM\n",
    "pipeline = Pipeline([\n",
    "    ('vectorizer', TfidfVectorizer(max_df=0.75, ngram_range=(1, 2))),\n",
    "    ('classifier', SVC(kernel='linear', C=1.0))\n",
    "])"
   ]
  },
  {
   "cell_type": "code",
   "execution_count": 10,
   "id": "edaf7d14-e64e-4527-abfe-2635869a2073",
   "metadata": {},
   "outputs": [],
   "source": [
    "# Perform grid search to find the best parameters\n",
    "parameters = {\n",
    "    'vectorizer__max_df': [0.5, 0.75, 1.0],\n",
    "    'vectorizer__ngram_range': [(1, 1), (1, 2)],\n",
    "    'classifier__C': [0.1, 1, 10]\n",
    "}"
   ]
  },
  {
   "cell_type": "code",
   "execution_count": 11,
   "id": "27a24917-cd50-4f80-b1d4-5f0b6ae50c26",
   "metadata": {},
   "outputs": [
    {
     "name": "stdout",
     "output_type": "stream",
     "text": [
      "Fitting 5 folds for each of 18 candidates, totalling 90 fits\n"
     ]
    },
    {
     "data": {
      "text/html": [
       "<style>#sk-container-id-1 {color: black;background-color: white;}#sk-container-id-1 pre{padding: 0;}#sk-container-id-1 div.sk-toggleable {background-color: white;}#sk-container-id-1 label.sk-toggleable__label {cursor: pointer;display: block;width: 100%;margin-bottom: 0;padding: 0.3em;box-sizing: border-box;text-align: center;}#sk-container-id-1 label.sk-toggleable__label-arrow:before {content: \"▸\";float: left;margin-right: 0.25em;color: #696969;}#sk-container-id-1 label.sk-toggleable__label-arrow:hover:before {color: black;}#sk-container-id-1 div.sk-estimator:hover label.sk-toggleable__label-arrow:before {color: black;}#sk-container-id-1 div.sk-toggleable__content {max-height: 0;max-width: 0;overflow: hidden;text-align: left;background-color: #f0f8ff;}#sk-container-id-1 div.sk-toggleable__content pre {margin: 0.2em;color: black;border-radius: 0.25em;background-color: #f0f8ff;}#sk-container-id-1 input.sk-toggleable__control:checked~div.sk-toggleable__content {max-height: 200px;max-width: 100%;overflow: auto;}#sk-container-id-1 input.sk-toggleable__control:checked~label.sk-toggleable__label-arrow:before {content: \"▾\";}#sk-container-id-1 div.sk-estimator input.sk-toggleable__control:checked~label.sk-toggleable__label {background-color: #d4ebff;}#sk-container-id-1 div.sk-label input.sk-toggleable__control:checked~label.sk-toggleable__label {background-color: #d4ebff;}#sk-container-id-1 input.sk-hidden--visually {border: 0;clip: rect(1px 1px 1px 1px);clip: rect(1px, 1px, 1px, 1px);height: 1px;margin: -1px;overflow: hidden;padding: 0;position: absolute;width: 1px;}#sk-container-id-1 div.sk-estimator {font-family: monospace;background-color: #f0f8ff;border: 1px dotted black;border-radius: 0.25em;box-sizing: border-box;margin-bottom: 0.5em;}#sk-container-id-1 div.sk-estimator:hover {background-color: #d4ebff;}#sk-container-id-1 div.sk-parallel-item::after {content: \"\";width: 100%;border-bottom: 1px solid gray;flex-grow: 1;}#sk-container-id-1 div.sk-label:hover label.sk-toggleable__label {background-color: #d4ebff;}#sk-container-id-1 div.sk-serial::before {content: \"\";position: absolute;border-left: 1px solid gray;box-sizing: border-box;top: 0;bottom: 0;left: 50%;z-index: 0;}#sk-container-id-1 div.sk-serial {display: flex;flex-direction: column;align-items: center;background-color: white;padding-right: 0.2em;padding-left: 0.2em;position: relative;}#sk-container-id-1 div.sk-item {position: relative;z-index: 1;}#sk-container-id-1 div.sk-parallel {display: flex;align-items: stretch;justify-content: center;background-color: white;position: relative;}#sk-container-id-1 div.sk-item::before, #sk-container-id-1 div.sk-parallel-item::before {content: \"\";position: absolute;border-left: 1px solid gray;box-sizing: border-box;top: 0;bottom: 0;left: 50%;z-index: -1;}#sk-container-id-1 div.sk-parallel-item {display: flex;flex-direction: column;z-index: 1;position: relative;background-color: white;}#sk-container-id-1 div.sk-parallel-item:first-child::after {align-self: flex-end;width: 50%;}#sk-container-id-1 div.sk-parallel-item:last-child::after {align-self: flex-start;width: 50%;}#sk-container-id-1 div.sk-parallel-item:only-child::after {width: 0;}#sk-container-id-1 div.sk-dashed-wrapped {border: 1px dashed gray;margin: 0 0.4em 0.5em 0.4em;box-sizing: border-box;padding-bottom: 0.4em;background-color: white;}#sk-container-id-1 div.sk-label label {font-family: monospace;font-weight: bold;display: inline-block;line-height: 1.2em;}#sk-container-id-1 div.sk-label-container {text-align: center;}#sk-container-id-1 div.sk-container {/* jupyter's `normalize.less` sets `[hidden] { display: none; }` but bootstrap.min.css set `[hidden] { display: none !important; }` so we also need the `!important` here to be able to override the default hidden behavior on the sphinx rendered scikit-learn.org. See: https://github.com/scikit-learn/scikit-learn/issues/21755 */display: inline-block !important;position: relative;}#sk-container-id-1 div.sk-text-repr-fallback {display: none;}</style><div id=\"sk-container-id-1\" class=\"sk-top-container\"><div class=\"sk-text-repr-fallback\"><pre>GridSearchCV(cv=5,\n",
       "             estimator=Pipeline(steps=[(&#x27;vectorizer&#x27;,\n",
       "                                        TfidfVectorizer(max_df=0.75,\n",
       "                                                        ngram_range=(1, 2))),\n",
       "                                       (&#x27;classifier&#x27;, SVC(kernel=&#x27;linear&#x27;))]),\n",
       "             n_jobs=-1,\n",
       "             param_grid={&#x27;classifier__C&#x27;: [0.1, 1, 10],\n",
       "                         &#x27;vectorizer__max_df&#x27;: [0.5, 0.75, 1.0],\n",
       "                         &#x27;vectorizer__ngram_range&#x27;: [(1, 1), (1, 2)]},\n",
       "             verbose=1)</pre><b>In a Jupyter environment, please rerun this cell to show the HTML representation or trust the notebook. <br />On GitHub, the HTML representation is unable to render, please try loading this page with nbviewer.org.</b></div><div class=\"sk-container\" hidden><div class=\"sk-item sk-dashed-wrapped\"><div class=\"sk-label-container\"><div class=\"sk-label sk-toggleable\"><input class=\"sk-toggleable__control sk-hidden--visually\" id=\"sk-estimator-id-1\" type=\"checkbox\" ><label for=\"sk-estimator-id-1\" class=\"sk-toggleable__label sk-toggleable__label-arrow\">GridSearchCV</label><div class=\"sk-toggleable__content\"><pre>GridSearchCV(cv=5,\n",
       "             estimator=Pipeline(steps=[(&#x27;vectorizer&#x27;,\n",
       "                                        TfidfVectorizer(max_df=0.75,\n",
       "                                                        ngram_range=(1, 2))),\n",
       "                                       (&#x27;classifier&#x27;, SVC(kernel=&#x27;linear&#x27;))]),\n",
       "             n_jobs=-1,\n",
       "             param_grid={&#x27;classifier__C&#x27;: [0.1, 1, 10],\n",
       "                         &#x27;vectorizer__max_df&#x27;: [0.5, 0.75, 1.0],\n",
       "                         &#x27;vectorizer__ngram_range&#x27;: [(1, 1), (1, 2)]},\n",
       "             verbose=1)</pre></div></div></div><div class=\"sk-parallel\"><div class=\"sk-parallel-item\"><div class=\"sk-item\"><div class=\"sk-label-container\"><div class=\"sk-label sk-toggleable\"><input class=\"sk-toggleable__control sk-hidden--visually\" id=\"sk-estimator-id-2\" type=\"checkbox\" ><label for=\"sk-estimator-id-2\" class=\"sk-toggleable__label sk-toggleable__label-arrow\">estimator: Pipeline</label><div class=\"sk-toggleable__content\"><pre>Pipeline(steps=[(&#x27;vectorizer&#x27;,\n",
       "                 TfidfVectorizer(max_df=0.75, ngram_range=(1, 2))),\n",
       "                (&#x27;classifier&#x27;, SVC(kernel=&#x27;linear&#x27;))])</pre></div></div></div><div class=\"sk-serial\"><div class=\"sk-item\"><div class=\"sk-serial\"><div class=\"sk-item\"><div class=\"sk-estimator sk-toggleable\"><input class=\"sk-toggleable__control sk-hidden--visually\" id=\"sk-estimator-id-3\" type=\"checkbox\" ><label for=\"sk-estimator-id-3\" class=\"sk-toggleable__label sk-toggleable__label-arrow\">TfidfVectorizer</label><div class=\"sk-toggleable__content\"><pre>TfidfVectorizer(max_df=0.75, ngram_range=(1, 2))</pre></div></div></div><div class=\"sk-item\"><div class=\"sk-estimator sk-toggleable\"><input class=\"sk-toggleable__control sk-hidden--visually\" id=\"sk-estimator-id-4\" type=\"checkbox\" ><label for=\"sk-estimator-id-4\" class=\"sk-toggleable__label sk-toggleable__label-arrow\">SVC</label><div class=\"sk-toggleable__content\"><pre>SVC(kernel=&#x27;linear&#x27;)</pre></div></div></div></div></div></div></div></div></div></div></div></div>"
      ],
      "text/plain": [
       "GridSearchCV(cv=5,\n",
       "             estimator=Pipeline(steps=[('vectorizer',\n",
       "                                        TfidfVectorizer(max_df=0.75,\n",
       "                                                        ngram_range=(1, 2))),\n",
       "                                       ('classifier', SVC(kernel='linear'))]),\n",
       "             n_jobs=-1,\n",
       "             param_grid={'classifier__C': [0.1, 1, 10],\n",
       "                         'vectorizer__max_df': [0.5, 0.75, 1.0],\n",
       "                         'vectorizer__ngram_range': [(1, 1), (1, 2)]},\n",
       "             verbose=1)"
      ]
     },
     "execution_count": 11,
     "metadata": {},
     "output_type": "execute_result"
    }
   ],
   "source": [
    "grid_search = GridSearchCV(pipeline, parameters, cv=5, n_jobs=-1, verbose=1)\n",
    "grid_search.fit(text_train, target_train)"
   ]
  },
  {
   "cell_type": "code",
   "execution_count": 12,
   "id": "80ca1135-49dd-4072-ae14-e45f6b4520d7",
   "metadata": {},
   "outputs": [],
   "source": [
    "# Best model from grid search\n",
    "best_model = grid_search.best_estimator_"
   ]
  },
  {
   "cell_type": "code",
   "execution_count": 13,
   "id": "cd3d6720-ed8d-4763-948e-07fdd40f415f",
   "metadata": {},
   "outputs": [],
   "source": [
    "# Predictions\n",
    "predictions_train = best_model.predict(text_train)\n",
    "predictions_test = best_model.predict(text_test)"
   ]
  },
  {
   "cell_type": "code",
   "execution_count": 14,
   "id": "5003e019-999c-492c-8b15-239877c0d99a",
   "metadata": {},
   "outputs": [
    {
     "name": "stdout",
     "output_type": "stream",
     "text": [
      "Accuracy: 1.0\n"
     ]
    }
   ],
   "source": [
    "# Accuracy train\n",
    "accuracy = accuracy_score(target_train, predictions_train)\n",
    "print(\"Accuracy:\", accuracy)"
   ]
  },
  {
   "cell_type": "code",
   "execution_count": 15,
   "id": "6a671779-bb2f-494d-b69d-c7aedcba1679",
   "metadata": {},
   "outputs": [
    {
     "name": "stdout",
     "output_type": "stream",
     "text": [
      "Accuracy: 0.99\n"
     ]
    }
   ],
   "source": [
    "# Accuracy test\n",
    "accuracy = accuracy_score(target_test, predictions_test)\n",
    "print(\"Accuracy:\", accuracy)"
   ]
  },
  {
   "cell_type": "code",
   "execution_count": 16,
   "id": "7bf09d66-e2bc-48ad-a4f7-90a07d5a788f",
   "metadata": {},
   "outputs": [],
   "source": [
    "# Function to classify new text\n",
    "def classify_text(new_text, model):\n",
    "    new_text = preprocess_text(new_text)\n",
    "    prediction = model.predict([new_text])\n",
    "    return prediction[0]"
   ]
  },
  {
   "cell_type": "code",
   "execution_count": 17,
   "id": "d0229d77-df30-42f6-b6d0-5437b9aca461",
   "metadata": {},
   "outputs": [],
   "source": [
    "# Map numeric labels to original class labels\n",
    "label_map = {index: label for index, label in enumerate(le.classes_)}"
   ]
  },
  {
   "cell_type": "code",
   "execution_count": 18,
   "id": "2c434e54-abd9-4f66-b55d-3158ae10d0de",
   "metadata": {},
   "outputs": [
    {
     "name": "stdout",
     "output_type": "stream",
     "text": [
      "Prediction for new_text1: Agencies\n"
     ]
    }
   ],
   "source": [
    "# Classify new texts\n",
    "new_text1 = \"Our agency excels in delivering real business value through data science\"\n",
    "prediction1 = classify_text(new_text1, best_model)\n",
    "print(\"Prediction for new_text1:\", label_map[prediction1])"
   ]
  },
  {
   "cell_type": "code",
   "execution_count": 19,
   "id": "6f4b0108-3bcb-4a0a-8e22-5fb422ef7a38",
   "metadata": {},
   "outputs": [
    {
     "name": "stdout",
     "output_type": "stream",
     "text": [
      "Prediction for new_text2: Students\n"
     ]
    }
   ],
   "source": [
    "new_text2 = \"Any recommendations for top data science conferences or meetups?\"\n",
    "prediction2 = classify_text(new_text2, best_model)\n",
    "print(\"Prediction for new_text2:\", label_map[prediction2])"
   ]
  },
  {
   "cell_type": "code",
   "execution_count": 20,
   "id": "c8abe27e-384b-40da-bb2f-e7edc5de9868",
   "metadata": {},
   "outputs": [
    {
     "name": "stdout",
     "output_type": "stream",
     "text": [
      "Prediction for new_text3: Freelancers\n"
     ]
    }
   ],
   "source": [
    "new_text3 = \"Just started working on a project involving data science for predictive maintenance. The insights are promising!\"\n",
    "prediction3 = classify_text(new_text3, best_model)\n",
    "print(\"Prediction for new_text3:\", label_map[prediction3])"
   ]
  },
  {
   "cell_type": "code",
   "execution_count": 21,
   "id": "978e5b11-1380-4892-a360-e495b9b85907",
   "metadata": {},
   "outputs": [
    {
     "name": "stdout",
     "output_type": "stream",
     "text": [
      "Prediction for new_text4: Students\n"
     ]
    }
   ],
   "source": [
    "new_text4 = \"Looking for advice on the best online data science courses that offer hands-on projects. Any recommendations?\"\n",
    "prediction4 = classify_text(new_text4, best_model)\n",
    "print(\"Prediction for new_text4:\", label_map[prediction4])"
   ]
  },
  {
   "cell_type": "code",
   "execution_count": 22,
   "id": "908516ee-361d-4ef8-9473-47631b0c2f26",
   "metadata": {},
   "outputs": [
    {
     "name": "stdout",
     "output_type": "stream",
     "text": [
      "Prediction for new_text5: Agencies\n"
     ]
    }
   ],
   "source": [
    "new_text5 = \"Our data science firm specializes in providing actionable insights to drive your business forward. Contact us today!\"\n",
    "prediction5 = classify_text(new_text5, best_model)\n",
    "print(\"Prediction for new_text5:\", label_map[prediction5])"
   ]
  },
  {
   "cell_type": "code",
   "execution_count": 23,
   "id": "4d36b8a0-06b6-4478-a42c-ab09de3be2ca",
   "metadata": {},
   "outputs": [
    {
     "name": "stdout",
     "output_type": "stream",
     "text": [
      "Prediction for new_text6: Courses\n"
     ]
    }
   ],
   "source": [
    "new_text6 = \"Taking a data science certification and the real-world case studies included are incredibly insightful.\"\n",
    "prediction6 = classify_text(new_text6, best_model)\n",
    "print(\"Prediction for new_text6:\", label_map[prediction6])"
   ]
  }
 ],
 "metadata": {
  "kernelspec": {
   "display_name": "Python 3 (ipykernel)",
   "language": "python",
   "name": "python3"
  },
  "language_info": {
   "codemirror_mode": {
    "name": "ipython",
    "version": 3
   },
   "file_extension": ".py",
   "mimetype": "text/x-python",
   "name": "python",
   "nbconvert_exporter": "python",
   "pygments_lexer": "ipython3",
   "version": "3.11.5"
  }
 },
 "nbformat": 4,
 "nbformat_minor": 5
}
